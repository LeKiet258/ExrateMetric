{
 "cells": [
  {
   "cell_type": "code",
   "execution_count": 1,
   "metadata": {},
   "outputs": [],
   "source": [
    "from bs4 import BeautifulSoup                        \n",
    "import requests\n",
    "import json\n",
    "import base64\n",
    "import pandas as pd\n",
    "import os"
   ]
  },
  {
   "cell_type": "markdown",
   "metadata": {},
   "source": [
    "# Dùng cho history data"
   ]
  },
  {
   "cell_type": "markdown",
   "metadata": {},
   "source": [
    "## VCB"
   ]
  },
  {
   "cell_type": "code",
   "execution_count": null,
   "metadata": {},
   "outputs": [],
   "source": [
    "from cassandra.cluster import Cluster\n",
    "from cassandra.auth import PlainTextAuthProvider\n",
    "\n",
    "keyspace = 'bank_exrate'\n",
    "username = 'cassandra'\n",
    "password = 'cassandra'\n",
    "\n",
    "# Replace with your cluster's contact points\n",
    "contact_points = ['localhost']\n",
    "# Replace with your cluster's port (default is 9042)\n",
    "port = 9042\n",
    "\n",
    "# Optional: If using authentication\n",
    "auth_provider = PlainTextAuthProvider(username, password)\n",
    "\n",
    "# Connect to the cluster\n",
    "cluster = Cluster(contact_points, port=port, auth_provider=auth_provider)\n",
    "session = cluster.connect(keyspace)\n",
    "\n",
    "# Execute a query\n",
    "query = \"SELECT * FROM exrate;\"\n",
    "rows = session.execute(query)\n",
    "\n",
    "# Process the results\n",
    "for row in rows:\n",
    "    print(row)\n",
    "    \n",
    "# Clean up and close the connection\n",
    "session.shutdown()\n",
    "cluster.shutdown()"
   ]
  },
  {
   "cell_type": "code",
   "execution_count": null,
   "metadata": {},
   "outputs": [],
   "source": [
    "def url_routing(bank: str, date: str):\n",
    "    if (bank.lower == 'vietcombank'):\n",
    "        return f\"https://www.vietcombank.com.vn/api/exchangerates?date={date}\" # e.g. 2024-06-07\n",
    "\n",
    "    return \"\""
   ]
  },
  {
   "cell_type": "code",
   "execution_count": 11,
   "metadata": {},
   "outputs": [
    {
     "data": {
      "text/plain": [
       "{'Count': 20,\n",
       " 'Date': '2024-06-07T00:00:00',\n",
       " 'UpdatedDate': '2024-06-07T23:00:00+07:00',\n",
       " 'Data': [{'currencyName': 'US DOLLAR',\n",
       "   'currencyCode': 'USD',\n",
       "   'cash': '25183.00',\n",
       "   'transfer': '25213.00',\n",
       "   'sell': '25453.00',\n",
       "   'icon': '/-/media/Default-Website/Default-Images/Icons/Flags/im_flag_usa.svg?h=32&w=32&ts=20230610195953&hash=4576D9B7C910424CC72B7A592BA369AE'},\n",
       "  {'currencyName': 'EURO',\n",
       "   'currencyCode': 'EUR',\n",
       "   'cash': '26973.23',\n",
       "   'transfer': '27245.69',\n",
       "   'sell': '28452.17',\n",
       "   'icon': '/-/media/Default-Website/Default-Images/Icons/Flags/im_flag_eur.svg?h=32&w=32&ts=20230610195955&hash=10502813C2316A5601FD57F7A0C89A3A'},\n",
       "  {'currencyName': 'UK POUND STERLING',\n",
       "   'currencyCode': 'GBP',\n",
       "   'cash': '31676.83',\n",
       "   'transfer': '31996.80',\n",
       "   'sell': '33023.24',\n",
       "   'icon': '/-/media/Default-Website/Default-Images/Icons/Flags/im_flag_gbp.svg?h=32&w=32&ts=20230610195950&hash=72ED63A02E20F8B413E65DE9B7F062AE'},\n",
       "  {'currencyName': 'JAPANESE YEN',\n",
       "   'currencyCode': 'JPY',\n",
       "   'cash': '158.29',\n",
       "   'transfer': '159.88',\n",
       "   'sell': '167.53',\n",
       "   'icon': '/-/media/Default-Website/Default-Images/Icons/Flags/im_flag_jpy.svg?h=32&w=32&ts=20230610195953&hash=C5D3E7B6B5EEE49C3D5C3C3A8B6798B8'},\n",
       "  {'currencyName': 'AUSTRALIAN DOLLAR',\n",
       "   'currencyCode': 'AUD',\n",
       "   'cash': '16510.89',\n",
       "   'transfer': '16677.67',\n",
       "   'sell': '17212.68',\n",
       "   'icon': '/-/media/Default-Website/Default-Images/Icons/Flags/im_flag_aud.svg?h=32&w=32&ts=20230610195950&hash=F70700292015EB326CA79643D4F05C03'},\n",
       "  {'currencyName': 'SINGAPORE DOLLAR',\n",
       "   'currencyCode': 'SGD',\n",
       "   'cash': '18414.14',\n",
       "   'transfer': '18600.14',\n",
       "   'sell': '19196.83',\n",
       "   'icon': '/-/media/Default-Website/Default-Images/Icons/Flags/im_flag_sgd.svg?h=32&w=32&ts=20230709003433&hash=C95A1CFD98A6896023B5EFE9D23459AA'},\n",
       "  {'currencyName': 'THAI BAHT',\n",
       "   'currencyCode': 'THB',\n",
       "   'cash': '617.09',\n",
       "   'transfer': '685.65',\n",
       "   'sell': '711.91',\n",
       "   'icon': '/-/media/Default-Website/Default-Images/Icons/Flags/im_flag_thb.svg?h=32&w=32&ts=20230610195952&hash=AB6CDBA1C854ADE46132EBF0A6DCFEF4'},\n",
       "  {'currencyName': 'CANADIAN DOLLAR',\n",
       "   'currencyCode': 'CAD',\n",
       "   'cash': '18129.81',\n",
       "   'transfer': '18312.94',\n",
       "   'sell': '18900.41',\n",
       "   'icon': '/-/media/Default-Website/Default-Images/Icons/Flags/im_flag_cad.svg?h=32&w=32&ts=20230610195951&hash=55B303641110059C97F6ABDE45B2FE20'},\n",
       "  {'currencyName': 'SWISS FRANC',\n",
       "   'currencyCode': 'CHF',\n",
       "   'cash': '27836.39',\n",
       "   'transfer': '28117.56',\n",
       "   'sell': '29019.56',\n",
       "   'icon': '/-/media/Default-Website/Default-Images/Icons/Flags/im_flag_chf.svg?h=32&w=32&ts=20230610195952&hash=CBA2E48794BD6E04AAF8761C55AB07DF'},\n",
       "  {'currencyName': 'HONG KONG DOLLAR',\n",
       "   'currencyCode': 'HKD',\n",
       "   'cash': '3171.97',\n",
       "   'transfer': '3204.01',\n",
       "   'sell': '3306.80',\n",
       "   'icon': '/-/media/Default-Website/Default-Images/Icons/Flags/im_flag_hkd.svg?h=32&w=32&ts=20230610195951&hash=E50E43ECCD43C736E273734DEEB000D8'},\n",
       "  {'currencyName': 'CHINESE YUAN',\n",
       "   'currencyCode': 'CNY',\n",
       "   'cash': '3436.59',\n",
       "   'transfer': '3471.30',\n",
       "   'sell': '3583.20',\n",
       "   'icon': '/-/media/Default-Website/Default-Images/Icons/Flags/im_flag_cny.svg?h=32&w=32&ts=20230610195953&hash=1E37E5E1D30CA9F186D9B8A0A188AE7C'},\n",
       "  {'currencyName': 'DANISH KRONE',\n",
       "   'currencyCode': 'DKK',\n",
       "   'cash': '0.00',\n",
       "   'transfer': '3642.62',\n",
       "   'sell': '3782.11',\n",
       "   'icon': '/-/media/Default-Website/Default-Images/Icons/Flags/im_flag_dkk.svg?h=32&w=32&ts=20230610195954&hash=7A1074CAFFF3E4469DD8DBFA9F95D1C0'},\n",
       "  {'currencyName': 'INDIAN RUPEE',\n",
       "   'currencyCode': 'INR',\n",
       "   'cash': '0.00',\n",
       "   'transfer': '303.77',\n",
       "   'sell': '315.92',\n",
       "   'icon': '/-/media/Default-Website/Default-Images/Icons/Flags/im_flag_inr.svg?h=32&w=32&ts=20230610195952&hash=6E19DDEEC1053D83CE9C98283BE347AC'},\n",
       "  {'currencyName': 'KOREAN WON',\n",
       "   'currencyCode': 'KRW',\n",
       "   'cash': '16.11',\n",
       "   'transfer': '17.90',\n",
       "   'sell': '19.53',\n",
       "   'icon': '/-/media/Default-Website/Default-Images/Icons/Flags/im_flag_krw.svg?h=32&w=32&ts=20230709003433&hash=43B80AF8FF6632988EB89EF0C30BDDE6'},\n",
       "  {'currencyName': 'KUWAITI DINAR',\n",
       "   'currencyCode': 'KWD',\n",
       "   'cash': '0.00',\n",
       "   'transfer': '82732.71',\n",
       "   'sell': '86040.13',\n",
       "   'icon': '/-/media/Default-Website/Default-Images/Icons/Flags/im_flag_kwd.svg?h=32&w=32&ts=20230610195949&hash=76B738C67E5151DBB4F9D27A0DEA2FC3'},\n",
       "  {'currencyName': 'MALAYSIAN RINGGIT',\n",
       "   'currencyCode': 'MYR',\n",
       "   'cash': '0.00',\n",
       "   'transfer': '5358.73',\n",
       "   'sell': '5475.60',\n",
       "   'icon': '/-/media/Default-Website/Default-Images/Icons/Flags/im_flag_myr.svg?h=32&w=32&ts=20230610195950&hash=4736802FBB11427761408F193E6452EC'},\n",
       "  {'currencyName': 'NORWEGIAN KRONE',\n",
       "   'currencyCode': 'NOK',\n",
       "   'cash': '0.00',\n",
       "   'transfer': '2360.08',\n",
       "   'sell': '2460.28',\n",
       "   'icon': '/-/media/Default-Website/Default-Images/Icons/Flags/im_flag_nok.svg?h=32&w=32&ts=20230610195951&hash=48B571580E4926C86F257FE4D167F750'},\n",
       "  {'currencyName': 'RUSSIAN RUBLE',\n",
       "   'currencyCode': 'RUB',\n",
       "   'cash': '0.00',\n",
       "   'transfer': '270.86',\n",
       "   'sell': '299.84',\n",
       "   'icon': '/-/media/Default-Website/Default-Images/Icons/Flags/im_flag_rub.svg?h=32&w=32&ts=20230709003433&hash=B5A31D5C371B6C922EBB4808605705EB'},\n",
       "  {'currencyName': 'SAUDI ARABIAN RIYAL',\n",
       "   'currencyCode': 'SAR',\n",
       "   'cash': '0.00',\n",
       "   'transfer': '6759.09',\n",
       "   'sell': '7029.30',\n",
       "   'icon': '/-/media/Default-Website/Default-Images/Icons/Flags/im_flag_sar.svg?h=32&w=32&ts=20230610195954&hash=732C766503BA27FF3A8764FAF20A2C0F'},\n",
       "  {'currencyName': 'SWEDISH KRONA',\n",
       "   'currencyCode': 'SEK',\n",
       "   'cash': '0.00',\n",
       "   'transfer': '2397.81',\n",
       "   'sell': '2499.61',\n",
       "   'icon': '/-/media/Default-Website/Default-Images/Icons/Flags/im_flag_sek.svg?h=32&w=32&ts=20230610195949&hash=88CF4CDE8DB12CA0D56485A05EC27A22'}]}"
      ]
     },
     "execution_count": 11,
     "metadata": {},
     "output_type": "execute_result"
    }
   ],
   "source": [
    "dataStr = requests.get(f\"https://www.vietcombank.com.vn/api/exchangerates?date=2024-06-07\").content\n",
    "dataMap = eval(dataStr)\n",
    "\n",
    "data = dataMap['Data']\n",
    "data\n",
    "dataMap"
   ]
  },
  {
   "cell_type": "code",
   "execution_count": 16,
   "metadata": {},
   "outputs": [
    {
     "data": {
      "text/plain": [
       "1719048126485"
      ]
     },
     "execution_count": 16,
     "metadata": {},
     "output_type": "execute_result"
    }
   ],
   "source": [
    "import time\n",
    "\n",
    "int(time.time() * 1000)"
   ]
  },
  {
   "cell_type": "code",
   "execution_count": 55,
   "metadata": {},
   "outputs": [
    {
     "data": {
      "text/html": [
       "<div>\n",
       "<style scoped>\n",
       "    .dataframe tbody tr th:only-of-type {\n",
       "        vertical-align: middle;\n",
       "    }\n",
       "\n",
       "    .dataframe tbody tr th {\n",
       "        vertical-align: top;\n",
       "    }\n",
       "\n",
       "    .dataframe thead th {\n",
       "        text-align: right;\n",
       "    }\n",
       "</style>\n",
       "<table border=\"1\" class=\"dataframe\">\n",
       "  <thead>\n",
       "    <tr style=\"text-align: right;\">\n",
       "      <th></th>\n",
       "      <th>currencyCode</th>\n",
       "      <th>cash</th>\n",
       "      <th>transfer</th>\n",
       "      <th>sell</th>\n",
       "    </tr>\n",
       "  </thead>\n",
       "  <tbody>\n",
       "    <tr>\n",
       "      <th>0</th>\n",
       "      <td>USD</td>\n",
       "      <td>25183.00</td>\n",
       "      <td>25213.00</td>\n",
       "      <td>25453.00</td>\n",
       "    </tr>\n",
       "    <tr>\n",
       "      <th>1</th>\n",
       "      <td>EUR</td>\n",
       "      <td>26973.23</td>\n",
       "      <td>27245.69</td>\n",
       "      <td>28452.17</td>\n",
       "    </tr>\n",
       "    <tr>\n",
       "      <th>3</th>\n",
       "      <td>JPY</td>\n",
       "      <td>158.29</td>\n",
       "      <td>159.88</td>\n",
       "      <td>167.53</td>\n",
       "    </tr>\n",
       "    <tr>\n",
       "      <th>4</th>\n",
       "      <td>AUD</td>\n",
       "      <td>16510.89</td>\n",
       "      <td>16677.67</td>\n",
       "      <td>17212.68</td>\n",
       "    </tr>\n",
       "    <tr>\n",
       "      <th>5</th>\n",
       "      <td>SGD</td>\n",
       "      <td>18414.14</td>\n",
       "      <td>18600.14</td>\n",
       "      <td>19196.83</td>\n",
       "    </tr>\n",
       "    <tr>\n",
       "      <th>7</th>\n",
       "      <td>CAD</td>\n",
       "      <td>18129.81</td>\n",
       "      <td>18312.94</td>\n",
       "      <td>18900.41</td>\n",
       "    </tr>\n",
       "    <tr>\n",
       "      <th>8</th>\n",
       "      <td>CHF</td>\n",
       "      <td>27836.39</td>\n",
       "      <td>28117.56</td>\n",
       "      <td>29019.56</td>\n",
       "    </tr>\n",
       "  </tbody>\n",
       "</table>\n",
       "</div>"
      ],
      "text/plain": [
       "  currencyCode      cash  transfer      sell\n",
       "0          USD  25183.00  25213.00  25453.00\n",
       "1          EUR  26973.23  27245.69  28452.17\n",
       "3          JPY    158.29    159.88    167.53\n",
       "4          AUD  16510.89  16677.67  17212.68\n",
       "5          SGD  18414.14  18600.14  19196.83\n",
       "7          CAD  18129.81  18312.94  18900.41\n",
       "8          CHF  27836.39  28117.56  29019.56"
      ]
     },
     "execution_count": 55,
     "metadata": {},
     "output_type": "execute_result"
    }
   ],
   "source": [
    "list_columns = ['USD', 'AUD', 'CAD', 'CHF', 'EUR', 'JPY', 'SGD']\n",
    "dfVcb = pd.DataFrame(data)[['currencyCode', 'cash', 'transfer', 'sell']] \n",
    "dfVcb = dfVcb.loc[dfVcb['currencyCode'].isin(list_columns)]\n",
    "dfVcb = dfVcb.astype({'cash': 'float', 'transfer': 'float', 'sell': 'float'})\n",
    "\n",
    "dfVcb"
   ]
  },
  {
   "cell_type": "code",
   "execution_count": 65,
   "metadata": {},
   "outputs": [
    {
     "data": {
      "text/html": [
       "<div>\n",
       "<style scoped>\n",
       "    .dataframe tbody tr th:only-of-type {\n",
       "        vertical-align: middle;\n",
       "    }\n",
       "\n",
       "    .dataframe tbody tr th {\n",
       "        vertical-align: top;\n",
       "    }\n",
       "\n",
       "    .dataframe thead th {\n",
       "        text-align: right;\n",
       "    }\n",
       "</style>\n",
       "<table border=\"1\" class=\"dataframe\">\n",
       "  <thead>\n",
       "    <tr style=\"text-align: right;\">\n",
       "      <th>currencyCode</th>\n",
       "      <th>USD</th>\n",
       "      <th>EUR</th>\n",
       "      <th>JPY</th>\n",
       "      <th>AUD</th>\n",
       "      <th>SGD</th>\n",
       "      <th>CAD</th>\n",
       "      <th>CHF</th>\n",
       "    </tr>\n",
       "  </thead>\n",
       "  <tbody>\n",
       "    <tr>\n",
       "      <th>cash</th>\n",
       "      <td>25183.0</td>\n",
       "      <td>26973.23</td>\n",
       "      <td>158.29</td>\n",
       "      <td>16510.89</td>\n",
       "      <td>18414.14</td>\n",
       "      <td>18129.81</td>\n",
       "      <td>27836.39</td>\n",
       "    </tr>\n",
       "    <tr>\n",
       "      <th>transfer</th>\n",
       "      <td>25213.0</td>\n",
       "      <td>27245.69</td>\n",
       "      <td>159.88</td>\n",
       "      <td>16677.67</td>\n",
       "      <td>18600.14</td>\n",
       "      <td>18312.94</td>\n",
       "      <td>28117.56</td>\n",
       "    </tr>\n",
       "    <tr>\n",
       "      <th>sell</th>\n",
       "      <td>25453.0</td>\n",
       "      <td>28452.17</td>\n",
       "      <td>167.53</td>\n",
       "      <td>17212.68</td>\n",
       "      <td>19196.83</td>\n",
       "      <td>18900.41</td>\n",
       "      <td>29019.56</td>\n",
       "    </tr>\n",
       "  </tbody>\n",
       "</table>\n",
       "</div>"
      ],
      "text/plain": [
       "currencyCode      USD       EUR     JPY       AUD       SGD       CAD  \\\n",
       "cash          25183.0  26973.23  158.29  16510.89  18414.14  18129.81   \n",
       "transfer      25213.0  27245.69  159.88  16677.67  18600.14  18312.94   \n",
       "sell          25453.0  28452.17  167.53  17212.68  19196.83  18900.41   \n",
       "\n",
       "currencyCode       CHF  \n",
       "cash          27836.39  \n",
       "transfer      28117.56  \n",
       "sell          29019.56  "
      ]
     },
     "execution_count": 65,
     "metadata": {},
     "output_type": "execute_result"
    }
   ],
   "source": [
    "df_pivot = None\n",
    "\n",
    "for item in ['cash', 'transfer', 'sell']:\n",
    "    dfVcb2 = dfVcb[['currencyCode', item]].T\n",
    "    dfVcb2.columns = dfVcb2.iloc[0]\n",
    "    dfVcb2 = dfVcb2.drop(dfVcb2.index[0])\n",
    "    \n",
    "    if df_pivot is None:\n",
    "        df_pivot = dfVcb2\n",
    "    else:\n",
    "        df_pivot = pd.concat([df_pivot, dfVcb2], axis=0)\n",
    "\n",
    "# df_pivot = pd.concat([df_pivot, df_pivot.iloc[[-1]]], axis=0)\n",
    "df_pivot"
   ]
  },
  {
   "cell_type": "code",
   "execution_count": 68,
   "metadata": {},
   "outputs": [
    {
     "data": {
      "text/html": [
       "<div>\n",
       "<style scoped>\n",
       "    .dataframe tbody tr th:only-of-type {\n",
       "        vertical-align: middle;\n",
       "    }\n",
       "\n",
       "    .dataframe tbody tr th {\n",
       "        vertical-align: top;\n",
       "    }\n",
       "\n",
       "    .dataframe thead th {\n",
       "        text-align: right;\n",
       "    }\n",
       "</style>\n",
       "<table border=\"1\" class=\"dataframe\">\n",
       "  <thead>\n",
       "    <tr style=\"text-align: right;\">\n",
       "      <th>currencyCode</th>\n",
       "      <th>USD</th>\n",
       "      <th>EUR</th>\n",
       "      <th>JPY</th>\n",
       "      <th>AUD</th>\n",
       "      <th>SGD</th>\n",
       "      <th>CAD</th>\n",
       "      <th>CHF</th>\n",
       "      <th>instrument_type</th>\n",
       "      <th>deal_type</th>\n",
       "    </tr>\n",
       "  </thead>\n",
       "  <tbody>\n",
       "    <tr>\n",
       "      <th>cash</th>\n",
       "      <td>25183.0</td>\n",
       "      <td>26973.23</td>\n",
       "      <td>158.29</td>\n",
       "      <td>16510.89</td>\n",
       "      <td>18414.14</td>\n",
       "      <td>18129.81</td>\n",
       "      <td>27836.39</td>\n",
       "      <td>buy</td>\n",
       "      <td>cash</td>\n",
       "    </tr>\n",
       "    <tr>\n",
       "      <th>transfer</th>\n",
       "      <td>25213.0</td>\n",
       "      <td>27245.69</td>\n",
       "      <td>159.88</td>\n",
       "      <td>16677.67</td>\n",
       "      <td>18600.14</td>\n",
       "      <td>18312.94</td>\n",
       "      <td>28117.56</td>\n",
       "      <td>buy</td>\n",
       "      <td>transfer</td>\n",
       "    </tr>\n",
       "    <tr>\n",
       "      <th>sell</th>\n",
       "      <td>25453.0</td>\n",
       "      <td>28452.17</td>\n",
       "      <td>167.53</td>\n",
       "      <td>17212.68</td>\n",
       "      <td>19196.83</td>\n",
       "      <td>18900.41</td>\n",
       "      <td>29019.56</td>\n",
       "      <td>sell</td>\n",
       "      <td>cash</td>\n",
       "    </tr>\n",
       "  </tbody>\n",
       "</table>\n",
       "</div>"
      ],
      "text/plain": [
       "currencyCode      USD       EUR     JPY       AUD       SGD       CAD  \\\n",
       "cash          25183.0  26973.23  158.29  16510.89  18414.14  18129.81   \n",
       "transfer      25213.0  27245.69  159.88  16677.67  18600.14  18312.94   \n",
       "sell          25453.0  28452.17  167.53  17212.68  19196.83  18900.41   \n",
       "\n",
       "currencyCode       CHF instrument_type deal_type  \n",
       "cash          27836.39             buy      cash  \n",
       "transfer      28117.56             buy  transfer  \n",
       "sell          29019.56            sell      cash  "
      ]
     },
     "execution_count": 68,
     "metadata": {},
     "output_type": "execute_result"
    }
   ],
   "source": [
    "df_pivot = df_pivot.assign(\n",
    "    instrument_type=df_pivot.index.map(lambda x: 'buy' if x != 'sell' else x),\n",
    "    deal_type = df_pivot.index.map(lambda x: 'cash' if x == 'sell' else x)\n",
    ")\n",
    "df_pivot"
   ]
  },
  {
   "cell_type": "code",
   "execution_count": 76,
   "metadata": {},
   "outputs": [
    {
     "data": {
      "text/html": [
       "<div>\n",
       "<style scoped>\n",
       "    .dataframe tbody tr th:only-of-type {\n",
       "        vertical-align: middle;\n",
       "    }\n",
       "\n",
       "    .dataframe tbody tr th {\n",
       "        vertical-align: top;\n",
       "    }\n",
       "\n",
       "    .dataframe thead th {\n",
       "        text-align: right;\n",
       "    }\n",
       "</style>\n",
       "<table border=\"1\" class=\"dataframe\">\n",
       "  <thead>\n",
       "    <tr style=\"text-align: right;\">\n",
       "      <th>currencyCode</th>\n",
       "      <th>USD</th>\n",
       "      <th>EUR</th>\n",
       "      <th>JPY</th>\n",
       "      <th>AUD</th>\n",
       "      <th>SGD</th>\n",
       "      <th>CAD</th>\n",
       "      <th>CHF</th>\n",
       "      <th>instrument_type</th>\n",
       "      <th>deal_type</th>\n",
       "    </tr>\n",
       "  </thead>\n",
       "  <tbody>\n",
       "    <tr>\n",
       "      <th>cash</th>\n",
       "      <td>25183.0</td>\n",
       "      <td>26973.23</td>\n",
       "      <td>158.29</td>\n",
       "      <td>16510.89</td>\n",
       "      <td>18414.14</td>\n",
       "      <td>18129.81</td>\n",
       "      <td>27836.39</td>\n",
       "      <td>buy</td>\n",
       "      <td>cash</td>\n",
       "    </tr>\n",
       "    <tr>\n",
       "      <th>transfer</th>\n",
       "      <td>25213.0</td>\n",
       "      <td>27245.69</td>\n",
       "      <td>159.88</td>\n",
       "      <td>16677.67</td>\n",
       "      <td>18600.14</td>\n",
       "      <td>18312.94</td>\n",
       "      <td>28117.56</td>\n",
       "      <td>buy</td>\n",
       "      <td>transfer</td>\n",
       "    </tr>\n",
       "    <tr>\n",
       "      <th>sell</th>\n",
       "      <td>25453.0</td>\n",
       "      <td>28452.17</td>\n",
       "      <td>167.53</td>\n",
       "      <td>17212.68</td>\n",
       "      <td>19196.83</td>\n",
       "      <td>18900.41</td>\n",
       "      <td>29019.56</td>\n",
       "      <td>sell</td>\n",
       "      <td>cash</td>\n",
       "    </tr>\n",
       "    <tr>\n",
       "      <th>sell</th>\n",
       "      <td>25453.0</td>\n",
       "      <td>28452.17</td>\n",
       "      <td>167.53</td>\n",
       "      <td>17212.68</td>\n",
       "      <td>19196.83</td>\n",
       "      <td>18900.41</td>\n",
       "      <td>29019.56</td>\n",
       "      <td>sell</td>\n",
       "      <td>transfer</td>\n",
       "    </tr>\n",
       "  </tbody>\n",
       "</table>\n",
       "</div>"
      ],
      "text/plain": [
       "currencyCode      USD       EUR     JPY       AUD       SGD       CAD  \\\n",
       "cash          25183.0  26973.23  158.29  16510.89  18414.14  18129.81   \n",
       "transfer      25213.0  27245.69  159.88  16677.67  18600.14  18312.94   \n",
       "sell          25453.0  28452.17  167.53  17212.68  19196.83  18900.41   \n",
       "sell          25453.0  28452.17  167.53  17212.68  19196.83  18900.41   \n",
       "\n",
       "currencyCode       CHF instrument_type deal_type  \n",
       "cash          27836.39             buy      cash  \n",
       "transfer      28117.56             buy  transfer  \n",
       "sell          29019.56            sell      cash  \n",
       "sell          29019.56            sell  transfer  "
      ]
     },
     "execution_count": 76,
     "metadata": {},
     "output_type": "execute_result"
    }
   ],
   "source": [
    "df_pivot = pd.concat([df_pivot, df_pivot.iloc[[-1], :-1].assign(deal_type=['transfer'])], axis=0)\n",
    "df_pivot"
   ]
  },
  {
   "cell_type": "code",
   "execution_count": 78,
   "metadata": {},
   "outputs": [
    {
     "data": {
      "text/html": [
       "<div>\n",
       "<style scoped>\n",
       "    .dataframe tbody tr th:only-of-type {\n",
       "        vertical-align: middle;\n",
       "    }\n",
       "\n",
       "    .dataframe tbody tr th {\n",
       "        vertical-align: top;\n",
       "    }\n",
       "\n",
       "    .dataframe thead th {\n",
       "        text-align: right;\n",
       "    }\n",
       "</style>\n",
       "<table border=\"1\" class=\"dataframe\">\n",
       "  <thead>\n",
       "    <tr style=\"text-align: right;\">\n",
       "      <th>currencyCode</th>\n",
       "      <th>USD</th>\n",
       "      <th>EUR</th>\n",
       "      <th>JPY</th>\n",
       "      <th>AUD</th>\n",
       "      <th>SGD</th>\n",
       "      <th>CAD</th>\n",
       "      <th>CHF</th>\n",
       "      <th>instrument_type</th>\n",
       "      <th>deal_type</th>\n",
       "      <th>bank</th>\n",
       "    </tr>\n",
       "  </thead>\n",
       "  <tbody>\n",
       "    <tr>\n",
       "      <th>cash</th>\n",
       "      <td>25183.0</td>\n",
       "      <td>26973.23</td>\n",
       "      <td>158.29</td>\n",
       "      <td>16510.89</td>\n",
       "      <td>18414.14</td>\n",
       "      <td>18129.81</td>\n",
       "      <td>27836.39</td>\n",
       "      <td>buy</td>\n",
       "      <td>cash</td>\n",
       "      <td>vietcombank</td>\n",
       "    </tr>\n",
       "    <tr>\n",
       "      <th>transfer</th>\n",
       "      <td>25213.0</td>\n",
       "      <td>27245.69</td>\n",
       "      <td>159.88</td>\n",
       "      <td>16677.67</td>\n",
       "      <td>18600.14</td>\n",
       "      <td>18312.94</td>\n",
       "      <td>28117.56</td>\n",
       "      <td>buy</td>\n",
       "      <td>transfer</td>\n",
       "      <td>vietcombank</td>\n",
       "    </tr>\n",
       "    <tr>\n",
       "      <th>sell</th>\n",
       "      <td>25453.0</td>\n",
       "      <td>28452.17</td>\n",
       "      <td>167.53</td>\n",
       "      <td>17212.68</td>\n",
       "      <td>19196.83</td>\n",
       "      <td>18900.41</td>\n",
       "      <td>29019.56</td>\n",
       "      <td>sell</td>\n",
       "      <td>cash</td>\n",
       "      <td>vietcombank</td>\n",
       "    </tr>\n",
       "    <tr>\n",
       "      <th>sell</th>\n",
       "      <td>25453.0</td>\n",
       "      <td>28452.17</td>\n",
       "      <td>167.53</td>\n",
       "      <td>17212.68</td>\n",
       "      <td>19196.83</td>\n",
       "      <td>18900.41</td>\n",
       "      <td>29019.56</td>\n",
       "      <td>sell</td>\n",
       "      <td>transfer</td>\n",
       "      <td>vietcombank</td>\n",
       "    </tr>\n",
       "  </tbody>\n",
       "</table>\n",
       "</div>"
      ],
      "text/plain": [
       "currencyCode      USD       EUR     JPY       AUD       SGD       CAD  \\\n",
       "cash          25183.0  26973.23  158.29  16510.89  18414.14  18129.81   \n",
       "transfer      25213.0  27245.69  159.88  16677.67  18600.14  18312.94   \n",
       "sell          25453.0  28452.17  167.53  17212.68  19196.83  18900.41   \n",
       "sell          25453.0  28452.17  167.53  17212.68  19196.83  18900.41   \n",
       "\n",
       "currencyCode       CHF instrument_type deal_type         bank  \n",
       "cash          27836.39             buy      cash  vietcombank  \n",
       "transfer      28117.56             buy  transfer  vietcombank  \n",
       "sell          29019.56            sell      cash  vietcombank  \n",
       "sell          29019.56            sell  transfer  vietcombank  "
      ]
     },
     "execution_count": 78,
     "metadata": {},
     "output_type": "execute_result"
    }
   ],
   "source": [
    "df_pivot = df_pivot.assign(bank='vietcombank')\n",
    "df_pivot"
   ]
  },
  {
   "cell_type": "code",
   "execution_count": 80,
   "metadata": {},
   "outputs": [],
   "source": [
    "df_pivot.to_csv('test.csv', index=False)"
   ]
  },
  {
   "cell_type": "code",
   "execution_count": 79,
   "metadata": {},
   "outputs": [
    {
     "name": "stdout",
     "output_type": "stream",
     "text": [
      "cash\n",
      "currencyCode\n",
      "USD                    25183.0\n",
      "EUR                   26973.23\n",
      "JPY                     158.29\n",
      "AUD                   16510.89\n",
      "SGD                   18414.14\n",
      "CAD                   18129.81\n",
      "CHF                   27836.39\n",
      "instrument_type            buy\n",
      "deal_type                 cash\n",
      "bank               vietcombank\n",
      "Name: cash, dtype: object\n",
      "transfer\n",
      "currencyCode\n",
      "USD                    25213.0\n",
      "EUR                   27245.69\n",
      "JPY                     159.88\n",
      "AUD                   16677.67\n",
      "SGD                   18600.14\n",
      "CAD                   18312.94\n",
      "CHF                   28117.56\n",
      "instrument_type            buy\n",
      "deal_type             transfer\n",
      "bank               vietcombank\n",
      "Name: transfer, dtype: object\n",
      "sell\n",
      "currencyCode\n",
      "USD                    25453.0\n",
      "EUR                   28452.17\n",
      "JPY                     167.53\n",
      "AUD                   17212.68\n",
      "SGD                   19196.83\n",
      "CAD                   18900.41\n",
      "CHF                   29019.56\n",
      "instrument_type           sell\n",
      "deal_type                 cash\n",
      "bank               vietcombank\n",
      "Name: sell, dtype: object\n",
      "sell\n",
      "currencyCode\n",
      "USD                    25453.0\n",
      "EUR                   28452.17\n",
      "JPY                     167.53\n",
      "AUD                   17212.68\n",
      "SGD                   19196.83\n",
      "CAD                   18900.41\n",
      "CHF                   29019.56\n",
      "instrument_type           sell\n",
      "deal_type             transfer\n",
      "bank               vietcombank\n",
      "Name: sell, dtype: object\n"
     ]
    }
   ],
   "source": [
    "for index, row in df_pivot.iterrows():\n",
    "    print(index)\n",
    "    print(row)"
   ]
  },
  {
   "cell_type": "code",
   "execution_count": null,
   "metadata": {},
   "outputs": [],
   "source": [
    "# TODO: \n",
    "#   add bank_name as param\n",
    "#   try-catch\n",
    "def send_request(date: str) -> str:\n",
    "    data = requests.get(f\"https://www.vietcombank.com.vn/api/exchangerates/exportexcel?date={date}\").content\n",
    "    response_dict = json.loads(data)\n",
    "    file_name = response_dict['FileName'].replace(\" \", \"_\")\n",
    "    base64_data = response_dict['Data']\n",
    "\n",
    "    # decode base64 data into byte string\n",
    "    file_data = base64.b64decode(base64_data)\n",
    "\n",
    "    # export byte string to file\n",
    "    with open(file_name, 'wb') as file:\n",
    "        file.write(file_data)\n",
    "    \n",
    "    return file_name\n",
    "\n",
    "def get_bank_data(date: str):\n",
    "    exrate_file_path = send_request(date)\n",
    "    \n",
    "    excel_df = pd.read_excel(exrate_file_path, skiprows=3, header=None) \\\n",
    "        .rename(columns={0: \"currency_code\", 1: \"currency_name\", 2: \"buy_rate_cash\", 3: \"buy_rate_transfer\", 4: \"sell_rate\"})\n",
    "\n",
    "    # remove metadata files\n",
    "    excel_df = excel_df.loc[(excel_df['currency_code'].isna() == False) & (excel_df['currency_code'].str.len() == 3)]\n",
    "    \n",
    "    # remove file after transform\n",
    "    if os.path.exists(exrate_file_path):\n",
    "        os.remove(exrate_file_path)\n",
    "        \n",
    "    return excel_df"
   ]
  },
  {
   "cell_type": "code",
   "execution_count": null,
   "metadata": {},
   "outputs": [],
   "source": [
    "df = get_bank_data('2024-06-06')\n",
    "df.head(100)"
   ]
  },
  {
   "cell_type": "markdown",
   "metadata": {},
   "source": [
    "## Techcombank"
   ]
  },
  {
   "cell_type": "code",
   "execution_count": 1,
   "metadata": {},
   "outputs": [
    {
     "data": {
      "text/plain": [
       "b'{\"exchangeRate\":{\"data\":[{\"itemId\":\"11272\",\"label\":\"AUD\",\"askRate\":\"17361.0\",\"bidRateCK\":\"16732.0\",\"bidRateTM\":\"16463.0\",\"sourceCurrency\":\"AUD\",\"targetCurrency\":\"VND\",\"askRateTM\":\"17372.0\"},{\"itemId\":\"10295\",\"label\":\"CAD\",\"askRate\":\"18962.0\",\"bidRateCK\":\"18342.0\",\"bidRateTM\":\"18067.0\",\"sourceCurrency\":\"CAD\",\"targetCurrency\":\"VND\",\"askRateTM\":\"18969.0\"},{\"itemId\":\"10524\",\"label\":\"CHF\",\"askRate\":\"28614.0\",\"bidRateCK\":\"27981.0\",\"bidRateTM\":\"27617.0\",\"sourceCurrency\":\"CHF\",\"targetCurrency\":\"VND\",\"askRateTM\":\"28627.0\"},{\"itemId\":\"11811\",\"label\":\"CNY\",\"askRate\":\"3710.0\",\"bidRateCK\":\"3320.0\",\"sourceCurrency\":\"CNY\",\"targetCurrency\":\"VND\"},{\"itemId\":\"10262\",\"label\":\"EUR\",\"askRate\":\"27840.0\",\"bidRateCK\":\"27011.0\",\"bidRateTM\":\"26752.0\",\"sourceCurrency\":\"EUR\",\"targetCurrency\":\"VND\",\"askRateTM\":\"28104.0\"},{\"itemId\":\"10106\",\"label\":\"GBP\",\"askRate\":\"32767.0\",\"bidRateCK\":\"31831.0\",\"bidRateTM\":\"31451.0\",\"sourceCurrency\":\"GBP\",\"targetCurrency\":\"VND\",\"askRateTM\":\"32786.0\"},{\"itemId\":\"11729\",\"label\":\"HKD\",\"askRate\":\"3330.0\",\"bidRateCK\":\"3128.0\",\"sourceCurrency\":\"HKD\",\"targetCurrency\":\"VND\"},{\"itemId\":\"10072\",\"label\":\"JPY\",\"askRate\":\"161.62\",\"bidRateCK\":\"155.47\",\"bidRateTM\":\"151.34\",\"sourceCurrency\":\"JPY\",\"targetCurrency\":\"VND\",\"askRateTM\":\"163.73\"},{\"itemId\":\"10452\",\"label\":\"KRW\",\"askRate\":\"21.0\",\"sourceCurrency\":\"KRW\",\"targetCurrency\":\"VND\"},{\"itemId\":\"10308\",\"label\":\"SGD\",\"askRate\":\"19046.0\",\"bidRateCK\":\"18520.0\",\"bidRateTM\":\"18245.0\",\"sourceCurrency\":\"SGD\",\"targetCurrency\":\"VND\",\"askRateTM\":\"19156.0\"},{\"itemId\":\"11708\",\"label\":\"THB\",\"askRate\":\"725.0\",\"bidRateCK\":\"672.0\",\"bidRateTM\":\"609.0\",\"sourceCurrency\":\"THB\",\"targetCurrency\":\"VND\",\"askRateTM\":\"726.0\"},{\"itemId\":\"10679\",\"label\":\"USD (1,2)\",\"bidRateTM\":\"25197.0\",\"sourceCurrency\":\"USD\",\"targetCurrency\":\"VND\",\"askRateTM\":\"25464.0\"},{\"itemId\":\"11118\",\"label\":\"USD (5,10,20)\",\"bidRateTM\":\"25203.0\",\"sourceCurrency\":\"USD\",\"targetCurrency\":\"VND\",\"askRateTM\":\"25464.0\"},{\"itemId\":\"10994\",\"label\":\"USD (50,100)\",\"askRate\":\"25464.0\",\"bidRateCK\":\"25273.0\",\"bidRateTM\":\"25230.0\",\"sourceCurrency\":\"USD\",\"targetCurrency\":\"VND\",\"askRateTM\":\"25464.0\"}],\"updatedTimes\":[\"17:02:00\",\"16:38:27\",\"16:32:01\",\"16:18:13\",\"16:02:01\",\"15:51:37\",\"15:32:01\",\"15:19:06\",\"15:19:05\",\"15:02:59\",\"15:02:01\",\"14:43:26\",\"14:43:25\",\"14:32:01\",\"14:11:50\",\"14:11:49\",\"14:02:01\",\"13:37:31\",\"13:32:01\",\"13:02:01\",\"12:32:01\",\"12:02:01\",\"11:32:01\",\"11:02:01\",\"10:32:01\",\"10:25:05\",\"10:02:01\",\"09:59:30\",\"09:59:29\",\"09:52:58\",\"09:46:44\",\"09:46:19\",\"09:32:01\",\"09:30:01\",\"09:22:41\",\"09:22:40\",\"09:11:37\",\"09:11:36\",\"09:10:23\",\"09:10:22\",\"09:08:57\",\"09:08:56\",\"09:05:12\",\"09:02:02\",\"09:02:01\",\"08:52:52\",\"08:52:21\",\"08:32:35\",\"08:32:02\",\"08:23:46\",\"08:06:36\"]},\"goldRate\":{\"data\":[{\"itemId\":\"11343\",\"askRate\":\"7700000.0\",\"bidRate\":\"7470000.0\"}],\"updatedTimes\":[\"17:02:00\",\"16:38:27\",\"16:32:01\",\"16:18:13\",\"16:02:01\",\"15:51:37\",\"15:32:01\",\"15:19:06\",\"15:19:05\",\"15:02:59\",\"15:02:01\",\"14:43:26\",\"14:43:25\",\"14:32:01\",\"14:11:50\",\"14:11:49\",\"14:02:01\",\"13:37:31\",\"13:32:01\",\"13:02:01\",\"12:32:01\",\"12:02:01\",\"11:32:01\",\"11:02:01\",\"10:32:01\",\"10:25:05\",\"10:02:01\",\"09:59:30\",\"09:59:29\",\"09:52:58\",\"09:46:44\",\"09:46:19\",\"09:32:01\",\"09:30:01\",\"09:22:41\",\"09:22:40\",\"09:11:37\",\"09:11:36\",\"09:10:23\",\"09:10:22\",\"09:08:57\",\"09:08:56\",\"09:05:12\",\"09:02:02\",\"09:02:01\",\"08:52:52\",\"08:52:21\",\"08:32:35\",\"08:32:02\",\"08:23:46\",\"08:06:36\"]},\"otherRate\":{\"data\":[{\"itemId\":\"10490\",\"ceiling\":\"25464.00\",\"central\":\"24252.00\",\"floor\":\"23040.00\"}],\"updatedTimes\":[\"17:02:00\",\"16:38:27\",\"16:32:01\",\"16:18:13\",\"16:02:01\",\"15:51:37\",\"15:32:01\",\"15:19:06\",\"15:19:05\",\"15:02:59\",\"15:02:01\",\"14:43:26\",\"14:43:25\",\"14:32:01\",\"14:11:50\",\"14:11:49\",\"14:02:01\",\"13:37:31\",\"13:32:01\",\"13:02:01\",\"12:32:01\",\"12:02:01\",\"11:32:01\",\"11:02:01\",\"10:32:01\",\"10:25:05\",\"10:02:01\",\"09:59:30\",\"09:59:29\",\"09:52:58\",\"09:46:44\",\"09:46:19\",\"09:32:01\",\"09:30:01\",\"09:22:41\",\"09:22:40\",\"09:11:37\",\"09:11:36\",\"09:10:23\",\"09:10:22\",\"09:08:57\",\"09:08:56\",\"09:05:12\",\"09:02:02\",\"09:02:01\",\"08:52:52\",\"08:52:21\",\"08:32:35\",\"08:32:02\",\"08:23:46\",\"08:06:36\"]},\"tenorRate\":{\"data\":[],\"updatedTimes\":[]},\"tenorintRate\":{\"data\":[],\"updatedTimes\":[]}}'"
      ]
     },
     "execution_count": 1,
     "metadata": {},
     "output_type": "execute_result"
    }
   ],
   "source": [
    "import requests\n",
    "\n",
    "url = 'https://techcombank.com/content/techcombank/web/vn/vi/cong-cu-tien-ich/ty-gia/_jcr_content.exchange-rates.2024-07-01.integration.json'\n",
    "response_str = requests.get(url).content\n",
    "response_str\n",
    "\n",
    "# map_response = eval(response_str)\n",
    "# map_data = map_response['exchangeRate']['data']"
   ]
  },
  {
   "cell_type": "code",
   "execution_count": 12,
   "metadata": {},
   "outputs": [
    {
     "data": {
      "text/plain": [
       "Timestamp('2024-07-03 17:02:00')"
      ]
     },
     "execution_count": 12,
     "metadata": {},
     "output_type": "execute_result"
    }
   ],
   "source": [
    "from datetime import datetime\n",
    "\n",
    "map_response = eval(response_str)\n",
    "\n",
    "now = datetime.now().strftime(\"%Y-%m-%d\") + \" \" + map_response['exchangeRate']['updatedTimes'][0]\n",
    "pd.Timestamp(now)\n",
    "\n",
    "# list_map_data = map_response['exchangeRate']['data']\n",
    "# list_map_data"
   ]
  },
  {
   "cell_type": "code",
   "execution_count": 11,
   "metadata": {},
   "outputs": [
    {
     "data": {
      "text/plain": [
       "dict_keys(['itemId', 'label', 'askRate', 'bidRateCK', 'bidRateTM', 'sourceCurrency', 'targetCurrency', 'askRateTM'])"
      ]
     },
     "execution_count": 11,
     "metadata": {},
     "output_type": "execute_result"
    }
   ],
   "source": [
    "list_map_data[0].keys()"
   ]
  },
  {
   "cell_type": "code",
   "execution_count": 4,
   "metadata": {},
   "outputs": [
    {
     "data": {
      "text/html": [
       "<div>\n",
       "<style scoped>\n",
       "    .dataframe tbody tr th:only-of-type {\n",
       "        vertical-align: middle;\n",
       "    }\n",
       "\n",
       "    .dataframe tbody tr th {\n",
       "        vertical-align: top;\n",
       "    }\n",
       "\n",
       "    .dataframe thead th {\n",
       "        text-align: right;\n",
       "    }\n",
       "</style>\n",
       "<table border=\"1\" class=\"dataframe\">\n",
       "  <thead>\n",
       "    <tr style=\"text-align: right;\">\n",
       "      <th></th>\n",
       "      <th>bank</th>\n",
       "      <th>deal_type</th>\n",
       "      <th>instrument_type</th>\n",
       "      <th>USD</th>\n",
       "      <th>AUD</th>\n",
       "      <th>CAD</th>\n",
       "      <th>CHF</th>\n",
       "      <th>EUR</th>\n",
       "      <th>JPY</th>\n",
       "      <th>SGD</th>\n",
       "    </tr>\n",
       "  </thead>\n",
       "  <tbody>\n",
       "    <tr>\n",
       "      <th>0</th>\n",
       "      <td>techcombank</td>\n",
       "      <td>buy</td>\n",
       "      <td>cash</td>\n",
       "      <td>25210.0</td>\n",
       "      <td>16463.0</td>\n",
       "      <td>18067.0</td>\n",
       "      <td>27617.0</td>\n",
       "      <td>26752.0</td>\n",
       "      <td>151.34</td>\n",
       "      <td>18245.0</td>\n",
       "    </tr>\n",
       "    <tr>\n",
       "      <th>1</th>\n",
       "      <td>techcombank</td>\n",
       "      <td>buy</td>\n",
       "      <td>transfer</td>\n",
       "      <td>25273.0</td>\n",
       "      <td>16732.0</td>\n",
       "      <td>18342.0</td>\n",
       "      <td>27981.0</td>\n",
       "      <td>27011.0</td>\n",
       "      <td>155.47</td>\n",
       "      <td>18520.0</td>\n",
       "    </tr>\n",
       "    <tr>\n",
       "      <th>2</th>\n",
       "      <td>techcombank</td>\n",
       "      <td>sell</td>\n",
       "      <td>cash</td>\n",
       "      <td>25464.0</td>\n",
       "      <td>17372.0</td>\n",
       "      <td>18969.0</td>\n",
       "      <td>28627.0</td>\n",
       "      <td>28104.0</td>\n",
       "      <td>163.73</td>\n",
       "      <td>19156.0</td>\n",
       "    </tr>\n",
       "    <tr>\n",
       "      <th>3</th>\n",
       "      <td>techcombank</td>\n",
       "      <td>sell</td>\n",
       "      <td>transfer</td>\n",
       "      <td>25464.0</td>\n",
       "      <td>17361.0</td>\n",
       "      <td>18962.0</td>\n",
       "      <td>28614.0</td>\n",
       "      <td>27840.0</td>\n",
       "      <td>161.62</td>\n",
       "      <td>19046.0</td>\n",
       "    </tr>\n",
       "  </tbody>\n",
       "</table>\n",
       "</div>"
      ],
      "text/plain": [
       "          bank deal_type instrument_type      USD      AUD      CAD      CHF  \\\n",
       "0  techcombank       buy            cash  25210.0  16463.0  18067.0  27617.0   \n",
       "1  techcombank       buy        transfer  25273.0  16732.0  18342.0  27981.0   \n",
       "2  techcombank      sell            cash  25464.0  17372.0  18969.0  28627.0   \n",
       "3  techcombank      sell        transfer  25464.0  17361.0  18962.0  28614.0   \n",
       "\n",
       "       EUR     JPY      SGD  \n",
       "0  26752.0  151.34  18245.0  \n",
       "1  27011.0  155.47  18520.0  \n",
       "2  28104.0  163.73  19156.0  \n",
       "3  27840.0  161.62  19046.0  "
      ]
     },
     "execution_count": 4,
     "metadata": {},
     "output_type": "execute_result"
    }
   ],
   "source": [
    "import pandas as pd\n",
    "\n",
    "map_data_trans = {}\n",
    "cassandra_mapping = {'bidRateTM': \"buy_cash\", 'bidRateCK': \"buy_transfer\", 'askRateTM': \"sell_cash\", 'askRate': \"sell_transfer\"}\n",
    "list_currency = ['USD', 'AUD', 'CAD', 'CHF', 'EUR', 'JPY', 'SGD']\n",
    "select_columns = ['bank', 'deal_type', 'instrument_type'] + list_currency\n",
    "\n",
    "for map_data in list_map_data:\n",
    "    list_map_data_by_item = []\n",
    "    currency = map_data['label']\n",
    "    \n",
    "    for techcombank_key, cassandra_key in cassandra_mapping.items():\n",
    "        if techcombank_key in map_data:\n",
    "            deal_type, instrument_type = cassandra_key.split('_')\n",
    "            list_cassandra_value = map_data_trans.get(cassandra_key, {'deal_type': deal_type, 'instrument_type': instrument_type, 'bank': 'techcombank'})\n",
    "            list_cassandra_value[currency] = float(map_data[techcombank_key])\n",
    "            \n",
    "            map_data_trans[cassandra_key] = list_cassandra_value\n",
    "\n",
    "list_rows = []\n",
    "for row in map_data_trans.values():\n",
    "    list_rows.append(row)\n",
    "    \n",
    "df_exrate = pd.DataFrame(list_rows)\n",
    "df_exrate['USD'] = df_exrate[['USD (1,2)', 'USD (5,10,20)', 'USD (50,100)']].mean(axis=1, skipna=True)\n",
    "df_exrate = df_exrate[select_columns]\n",
    "df_exrate"
   ]
  },
  {
   "cell_type": "code",
   "execution_count": 5,
   "metadata": {},
   "outputs": [
    {
     "data": {
      "text/plain": [
       "bank                object\n",
       "deal_type           object\n",
       "instrument_type     object\n",
       "USD                float64\n",
       "AUD                float64\n",
       "CAD                float64\n",
       "CHF                float64\n",
       "EUR                float64\n",
       "JPY                float64\n",
       "SGD                float64\n",
       "dtype: object"
      ]
     },
     "execution_count": 5,
     "metadata": {},
     "output_type": "execute_result"
    }
   ],
   "source": [
    "df_exrate.dtypes"
   ]
  },
  {
   "cell_type": "code",
   "execution_count": 28,
   "metadata": {},
   "outputs": [
    {
     "data": {
      "text/html": [
       "<div>\n",
       "<style scoped>\n",
       "    .dataframe tbody tr th:only-of-type {\n",
       "        vertical-align: middle;\n",
       "    }\n",
       "\n",
       "    .dataframe tbody tr th {\n",
       "        vertical-align: top;\n",
       "    }\n",
       "\n",
       "    .dataframe thead th {\n",
       "        text-align: right;\n",
       "    }\n",
       "</style>\n",
       "<table border=\"1\" class=\"dataframe\">\n",
       "  <thead>\n",
       "    <tr style=\"text-align: right;\">\n",
       "      <th></th>\n",
       "      <th>id</th>\n",
       "      <th>name</th>\n",
       "      <th>age</th>\n",
       "    </tr>\n",
       "  </thead>\n",
       "  <tbody>\n",
       "    <tr>\n",
       "      <th>0</th>\n",
       "      <td>1</td>\n",
       "      <td>Alice</td>\n",
       "      <td>25.0</td>\n",
       "    </tr>\n",
       "    <tr>\n",
       "      <th>1</th>\n",
       "      <td>2</td>\n",
       "      <td>Bob</td>\n",
       "      <td>NaN</td>\n",
       "    </tr>\n",
       "    <tr>\n",
       "      <th>2</th>\n",
       "      <td>3</td>\n",
       "      <td>Catherine</td>\n",
       "      <td>22.0</td>\n",
       "    </tr>\n",
       "  </tbody>\n",
       "</table>\n",
       "</div>"
      ],
      "text/plain": [
       "   id       name   age\n",
       "0   1      Alice  25.0\n",
       "1   2        Bob   NaN\n",
       "2   3  Catherine  22.0"
      ]
     },
     "execution_count": 28,
     "metadata": {},
     "output_type": "execute_result"
    }
   ],
   "source": [
    "data2 = [\n",
    "    {'id': 1, 'name': 'Alice', 'age': 25},\n",
    "    {'id': 2, 'name': 'Bob'},\n",
    "    {'id': 3, 'name': 'Catherine', 'age': 22}\n",
    "]\n",
    "df2 = pd.DataFrame(data2)\n",
    "df2"
   ]
  },
  {
   "cell_type": "code",
   "execution_count": 26,
   "metadata": {},
   "outputs": [
    {
     "data": {
      "text/html": [
       "<div>\n",
       "<style scoped>\n",
       "    .dataframe tbody tr th:only-of-type {\n",
       "        vertical-align: middle;\n",
       "    }\n",
       "\n",
       "    .dataframe tbody tr th {\n",
       "        vertical-align: top;\n",
       "    }\n",
       "\n",
       "    .dataframe thead th {\n",
       "        text-align: right;\n",
       "    }\n",
       "</style>\n",
       "<table border=\"1\" class=\"dataframe\">\n",
       "  <thead>\n",
       "    <tr style=\"text-align: right;\">\n",
       "      <th></th>\n",
       "      <th>usd</th>\n",
       "      <th>aud</th>\n",
       "      <th>eur</th>\n",
       "    </tr>\n",
       "  </thead>\n",
       "  <tbody>\n",
       "    <tr>\n",
       "      <th>0</th>\n",
       "      <td>1</td>\n",
       "      <td>2</td>\n",
       "      <td>3</td>\n",
       "    </tr>\n",
       "  </tbody>\n",
       "</table>\n",
       "</div>"
      ],
      "text/plain": [
       "   usd  aud  eur\n",
       "0    1    2    3"
      ]
     },
     "execution_count": 26,
     "metadata": {},
     "output_type": "execute_result"
    }
   ],
   "source": [
    "import pandas as pd\n",
    "\n",
    "data1 = {\n",
    "    'usd': [1],\n",
    "    'aud': [2],\n",
    "    'eur': [3]\n",
    "}\n",
    "df1 = pd.DataFrame(data1)\n",
    "df1"
   ]
  },
  {
   "cell_type": "markdown",
   "metadata": {},
   "source": [
    "# Time uuid "
   ]
  },
  {
   "cell_type": "code",
   "execution_count": 1,
   "metadata": {},
   "outputs": [],
   "source": [
    "import cassandra\n",
    "from cassandra.cluster import Cluster\n",
    "from cassandra.auth import PlainTextAuthProvider\n",
    "import datetime"
   ]
  },
  {
   "cell_type": "code",
   "execution_count": 2,
   "metadata": {},
   "outputs": [],
   "source": [
    "keyspace = 'bank_exrate'\n",
    "username = 'cassandra'\n",
    "password = 'cassandra'\n",
    "contact_points = ['127.0.0.1']\n",
    "port = 9042\n",
    "auth_provider = PlainTextAuthProvider(username, password)\n",
    "\n",
    "cluster = Cluster(contact_points, port=port, auth_provider=auth_provider)\n",
    "session = cluster.connect(keyspace)"
   ]
  },
  {
   "cell_type": "code",
   "execution_count": 9,
   "metadata": {},
   "outputs": [
    {
     "data": {
      "text/plain": [
       "'d4fe2962-309d-11ef-a427-39e14a732f44'"
      ]
     },
     "execution_count": 9,
     "metadata": {},
     "output_type": "execute_result"
    }
   ],
   "source": [
    "str(cassandra.util.uuid_from_time(datetime.datetime.now()))"
   ]
  },
  {
   "cell_type": "code",
   "execution_count": 7,
   "metadata": {},
   "outputs": [
    {
     "data": {
      "text/plain": [
       "1719633239.508103"
      ]
     },
     "execution_count": 7,
     "metadata": {},
     "output_type": "execute_result"
    }
   ],
   "source": [
    "datetime.datetime.now().timestamp()"
   ]
  },
  {
   "cell_type": "code",
   "execution_count": 10,
   "metadata": {},
   "outputs": [
    {
     "data": {
      "text/plain": [
       "datetime.datetime(2024, 6, 29, 10, 54, 23, 48428)"
      ]
     },
     "execution_count": 10,
     "metadata": {},
     "output_type": "execute_result"
    }
   ],
   "source": [
    "# server timezone\n",
    "datetime.datetime.now()"
   ]
  },
  {
   "cell_type": "code",
   "execution_count": 11,
   "metadata": {},
   "outputs": [
    {
     "data": {
      "text/plain": [
       "datetime.datetime(2024, 6, 29, 3, 54, 23, 321149)"
      ]
     },
     "execution_count": 11,
     "metadata": {},
     "output_type": "execute_result"
    }
   ],
   "source": [
    "# utc\n",
    "cassandra.util.datetime_from_timestamp(datetime.datetime.now().timestamp())"
   ]
  },
  {
   "cell_type": "code",
   "execution_count": null,
   "metadata": {},
   "outputs": [],
   "source": []
  },
  {
   "cell_type": "markdown",
   "metadata": {},
   "source": [
    "# Draft"
   ]
  },
  {
   "cell_type": "code",
   "execution_count": 51,
   "metadata": {},
   "outputs": [
    {
     "name": "stdout",
     "output_type": "stream",
     "text": [
      "Are the DataFrames equal based on the primary key fields?  True\n"
     ]
    }
   ],
   "source": [
    "import pandas as pd\n",
    "\n",
    "# Sample DataFrames\n",
    "data1 = {\n",
    "    'bank': ['Bank A', 'Bank B', 'Bank C'],\n",
    "    'deal_type': ['buy', 'sell', 'buy'],\n",
    "    'instrument_type': ['cash', 'transfer', 'cash'],\n",
    "    'last_updated': ['2024-06-07T00:00:00', '2024-06-08T00:00:00', '2024-06-09T00:00:00'],\n",
    "    'usd': [1.1, 1.2, 1.3],\n",
    "    'jpy': [110, 120, 130]\n",
    "}\n",
    "\n",
    "data2 = {\n",
    "    'last_updated': ['2024-06-07T00:00:00', '2024-06-09T00:00:00', '2024-06-09T00:00:00'],\n",
    "    'instrument_type': ['cash', 'transfer', 'cash'],\n",
    "    'bank': ['Bank A', 'Bank B', 'Bank C'],\n",
    "    'deal_type': ['buy', 'sell', 'buy'],\n",
    "    'jpy': [110, 120, 130],\n",
    "    'usd': [1.1, 1.2, 1.3],\n",
    "}\n",
    "\n",
    "list_currency = ['USD', 'JPY']\n",
    "exrate_pk = ['bank', 'deal_type', 'instrument_type']\n",
    "select_columns = exrate_pk + list_currency\n",
    "select_columns = [col.lower() for col in select_columns]\n",
    "\n",
    "\n",
    "df1 = pd.DataFrame(data1)[select_columns]\n",
    "df2 = pd.DataFrame(data2)[select_columns]\n",
    "\n",
    "# Ensure the 'last_updated' column is in datetime format\n",
    "# df1['last_updated'] = pd.to_datetime(df1['last_updated'])\n",
    "# df2['last_updated'] = pd.to_datetime(df2['last_updated'])\n",
    "\n",
    "# Sort DataFrames by the primary key fields\n",
    "df1_sorted = df1.sort_values(by=['bank', 'deal_type', 'instrument_type'])\n",
    "df2_sorted = df2.sort_values(by=['bank', 'deal_type', 'instrument_type'])\n",
    "\n",
    "# Sort the columns alphabetically\n",
    "df1_sorted = df1_sorted[sorted(df1_sorted.columns)]\n",
    "df2_sorted = df2_sorted[sorted(df2_sorted.columns)]\n",
    "\n",
    "# Set the primary key fields as the index\n",
    "df1_indexed = df1_sorted.set_index(['bank', 'deal_type', 'instrument_type'])\n",
    "df2_indexed = df2_sorted.set_index(['bank', 'deal_type', 'instrument_type'])\n",
    "\n",
    "# Compare the DataFrames\n",
    "are_equal = df1_indexed.equals(df2_indexed)\n",
    "\n",
    "print(\"Are the DataFrames equal based on the primary key fields? \", are_equal)\n"
   ]
  },
  {
   "cell_type": "code",
   "execution_count": 46,
   "metadata": {},
   "outputs": [
    {
     "data": {
      "text/plain": [
       "['bank', 'deal_type', 'instrument_type', 'usd', 'jpy']"
      ]
     },
     "execution_count": 46,
     "metadata": {},
     "output_type": "execute_result"
    }
   ],
   "source": [
    "select_columns"
   ]
  },
  {
   "cell_type": "code",
   "execution_count": 36,
   "metadata": {},
   "outputs": [
    {
     "data": {
      "text/html": [
       "<div>\n",
       "<style scoped>\n",
       "    .dataframe tbody tr th:only-of-type {\n",
       "        vertical-align: middle;\n",
       "    }\n",
       "\n",
       "    .dataframe tbody tr th {\n",
       "        vertical-align: top;\n",
       "    }\n",
       "\n",
       "    .dataframe thead th {\n",
       "        text-align: right;\n",
       "    }\n",
       "</style>\n",
       "<table border=\"1\" class=\"dataframe\">\n",
       "  <thead>\n",
       "    <tr style=\"text-align: right;\">\n",
       "      <th></th>\n",
       "      <th>bank</th>\n",
       "      <th>deal_type</th>\n",
       "      <th>instrument_type</th>\n",
       "      <th>last_updated</th>\n",
       "      <th>usd</th>\n",
       "      <th>jpy</th>\n",
       "    </tr>\n",
       "  </thead>\n",
       "  <tbody>\n",
       "    <tr>\n",
       "      <th>0</th>\n",
       "      <td>Bank A</td>\n",
       "      <td>buy</td>\n",
       "      <td>cash</td>\n",
       "      <td>2024-06-07T00:00:00</td>\n",
       "      <td>1.1</td>\n",
       "      <td>110</td>\n",
       "    </tr>\n",
       "    <tr>\n",
       "      <th>1</th>\n",
       "      <td>Bank B</td>\n",
       "      <td>sell</td>\n",
       "      <td>transfer</td>\n",
       "      <td>2024-06-08T00:00:00</td>\n",
       "      <td>1.2</td>\n",
       "      <td>120</td>\n",
       "    </tr>\n",
       "    <tr>\n",
       "      <th>2</th>\n",
       "      <td>Bank C</td>\n",
       "      <td>buy</td>\n",
       "      <td>cash</td>\n",
       "      <td>2024-06-09T00:00:00</td>\n",
       "      <td>1.3</td>\n",
       "      <td>130</td>\n",
       "    </tr>\n",
       "  </tbody>\n",
       "</table>\n",
       "</div>"
      ],
      "text/plain": [
       "     bank deal_type instrument_type         last_updated  usd  jpy\n",
       "0  Bank A       buy            cash  2024-06-07T00:00:00  1.1  110\n",
       "1  Bank B      sell        transfer  2024-06-08T00:00:00  1.2  120\n",
       "2  Bank C       buy            cash  2024-06-09T00:00:00  1.3  130"
      ]
     },
     "execution_count": 36,
     "metadata": {},
     "output_type": "execute_result"
    }
   ],
   "source": [
    "df1"
   ]
  },
  {
   "cell_type": "code",
   "execution_count": 37,
   "metadata": {},
   "outputs": [
    {
     "data": {
      "text/html": [
       "<div>\n",
       "<style scoped>\n",
       "    .dataframe tbody tr th:only-of-type {\n",
       "        vertical-align: middle;\n",
       "    }\n",
       "\n",
       "    .dataframe tbody tr th {\n",
       "        vertical-align: top;\n",
       "    }\n",
       "\n",
       "    .dataframe thead th {\n",
       "        text-align: right;\n",
       "    }\n",
       "</style>\n",
       "<table border=\"1\" class=\"dataframe\">\n",
       "  <thead>\n",
       "    <tr style=\"text-align: right;\">\n",
       "      <th></th>\n",
       "      <th>last_updated</th>\n",
       "      <th>instrument_type</th>\n",
       "      <th>bank</th>\n",
       "      <th>deal_type</th>\n",
       "      <th>jpy</th>\n",
       "      <th>usd</th>\n",
       "    </tr>\n",
       "  </thead>\n",
       "  <tbody>\n",
       "    <tr>\n",
       "      <th>0</th>\n",
       "      <td>2024-06-07T00:00:00</td>\n",
       "      <td>cash</td>\n",
       "      <td>Bank A</td>\n",
       "      <td>buy</td>\n",
       "      <td>110</td>\n",
       "      <td>1.1</td>\n",
       "    </tr>\n",
       "    <tr>\n",
       "      <th>1</th>\n",
       "      <td>2024-06-08T00:00:00</td>\n",
       "      <td>transfer</td>\n",
       "      <td>Bank B</td>\n",
       "      <td>sell</td>\n",
       "      <td>120</td>\n",
       "      <td>1.2</td>\n",
       "    </tr>\n",
       "    <tr>\n",
       "      <th>2</th>\n",
       "      <td>2024-06-09T00:00:00</td>\n",
       "      <td>cash</td>\n",
       "      <td>Bank C</td>\n",
       "      <td>buy</td>\n",
       "      <td>130</td>\n",
       "      <td>1.3</td>\n",
       "    </tr>\n",
       "  </tbody>\n",
       "</table>\n",
       "</div>"
      ],
      "text/plain": [
       "          last_updated instrument_type    bank deal_type  jpy  usd\n",
       "0  2024-06-07T00:00:00            cash  Bank A       buy  110  1.1\n",
       "1  2024-06-08T00:00:00        transfer  Bank B      sell  120  1.2\n",
       "2  2024-06-09T00:00:00            cash  Bank C       buy  130  1.3"
      ]
     },
     "execution_count": 37,
     "metadata": {},
     "output_type": "execute_result"
    }
   ],
   "source": [
    "df2"
   ]
  },
  {
   "cell_type": "code",
   "execution_count": 1,
   "metadata": {},
   "outputs": [],
   "source": [
    "import pandas as pd\n",
    "\n",
    "data = {\n",
    "    'id': [1, 2, 3],\n",
    "    'name': ['Alice', 'Bob', 'Catherine'],\n",
    "    'age': [25, 30, 22],\n",
    "    'city': ['New York', 'Los Angeles', 'Chicago']\n",
    "}\n",
    "df = pd.DataFrame(data)\n",
    "\n",
    "# List of desired columns\n",
    "desired_columns = ['id', 'name']\n",
    "df = df.loc[df['city'] == 'New York', desired_columns]"
   ]
  },
  {
   "cell_type": "code",
   "execution_count": 7,
   "metadata": {},
   "outputs": [
    {
     "data": {
      "text/plain": [
       "1"
      ]
     },
     "execution_count": 7,
     "metadata": {},
     "output_type": "execute_result"
    }
   ],
   "source": [
    "import pandas as pd\n",
    "\n",
    "# Sample DataFrame 1\n",
    "data1 = {\n",
    "    'USD': [25223.0],\n",
    "    'AUD': [16445.54],\n",
    "    'CAD': [18083.23],\n",
    "    'CHF': [27587.38],\n",
    "    'EUR': [26363.45],\n",
    "    'JPY': [153.35],\n",
    "    'SGD': [18272.37]\n",
    "}\n",
    "df1 = pd.DataFrame(data1)\n",
    "\n",
    "# Sample DataFrame 2\n",
    "data2 = {\n",
    "    'USD': [25223.0],\n",
    "    'AUD': [16445.54],\n",
    "    'CAD': [18083.23],\n",
    "    'CHF': [27587.38],\n",
    "    'EUR': [26363.45],\n",
    "    'JPY': [153.35],\n",
    "    'SGD': [18272.37]\n",
    "}\n",
    "df2 = pd.DataFrame(data2)\n",
    "\n",
    "# Compare the two DataFrames\n",
    "are_equal = df1.equals(df2)\n",
    "\n",
    "if not are_equal:\n",
    "    print(\"Are the two DataFrames equal?\", are_equal)\n",
    "1"
   ]
  }
 ],
 "metadata": {
  "kernelspec": {
   "display_name": "base",
   "language": "python",
   "name": "python3"
  },
  "language_info": {
   "codemirror_mode": {
    "name": "ipython",
    "version": 3
   },
   "file_extension": ".py",
   "mimetype": "text/x-python",
   "name": "python",
   "nbconvert_exporter": "python",
   "pygments_lexer": "ipython3",
   "version": "3.10.9"
  }
 },
 "nbformat": 4,
 "nbformat_minor": 2
}
